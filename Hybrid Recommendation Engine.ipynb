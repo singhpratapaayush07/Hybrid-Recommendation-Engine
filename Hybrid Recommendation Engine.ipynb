{
 "cells": [
  {
   "cell_type": "markdown",
   "metadata": {
    "id": "5-0zOf9quNlh"
   },
   "source": [
    "## Recommendation System :\n",
    "### Both Content Based and Colaborative\n",
    "* Link: https://www.youtube.com/watch?v=9-HKxxgbsJ8"
   ]
  },
  {
   "cell_type": "code",
   "execution_count": 1,
   "metadata": {
    "executionInfo": {
     "elapsed": 1394,
     "status": "ok",
     "timestamp": 1603288992930,
     "user": {
      "displayName": "Aayush Pratap Singh",
      "photoUrl": "",
      "userId": "08515727690672680447"
     },
     "user_tz": -330
    },
    "id": "ixTq4KyaurfM"
   },
   "outputs": [],
   "source": [
    "import pandas as pd\n",
    "import numpy as np\n",
    "import matplotlib.pyplot as plt\n",
    "import sys"
   ]
  },
  {
   "cell_type": "code",
   "execution_count": 2,
   "metadata": {
    "executionInfo": {
     "elapsed": 1890,
     "status": "ok",
     "timestamp": 1603282101685,
     "user": {
      "displayName": "Aayush Pratap Singh",
      "photoUrl": "",
      "userId": "08515727690672680447"
     },
     "user_tz": -330
    },
    "id": "TARqpVymvcyy"
   },
   "outputs": [],
   "source": [
    "movies=pd.read_csv('movie.csv')"
   ]
  },
  {
   "cell_type": "code",
   "execution_count": 3,
   "metadata": {
    "executionInfo": {
     "elapsed": 4443,
     "status": "ok",
     "timestamp": 1603284316271,
     "user": {
      "displayName": "Aayush Pratap Singh",
      "photoUrl": "",
      "userId": "08515727690672680447"
     },
     "user_tz": -330
    },
    "id": "3KQ0EwECvlHA"
   },
   "outputs": [],
   "source": [
    "ratings=pd.read_csv('rating.csv')"
   ]
  },
  {
   "cell_type": "code",
   "execution_count": 4,
   "metadata": {
    "executionInfo": {
     "elapsed": 1446,
     "status": "ok",
     "timestamp": 1603284322715,
     "user": {
      "displayName": "Aayush Pratap Singh",
      "photoUrl": "",
      "userId": "08515727690672680447"
     },
     "user_tz": -330
    },
    "id": "_oPVJDQTxVDC"
   },
   "outputs": [],
   "source": [
    "tags=pd.read_csv('tag.csv')"
   ]
  },
  {
   "cell_type": "code",
   "execution_count": 5,
   "metadata": {
    "colab": {
     "base_uri": "https://localhost:8080/",
     "height": 34
    },
    "executionInfo": {
     "elapsed": 931,
     "status": "ok",
     "timestamp": 1603284322716,
     "user": {
      "displayName": "Aayush Pratap Singh",
      "photoUrl": "",
      "userId": "08515727690672680447"
     },
     "user_tz": -330
    },
    "id": "JgEhBO2E-sYT",
    "outputId": "869081b9-d04c-4699-e0af-9ae9b8ac18b9"
   },
   "outputs": [
    {
     "data": {
      "text/plain": [
       "(27278, 3)"
      ]
     },
     "execution_count": 5,
     "metadata": {},
     "output_type": "execute_result"
    }
   ],
   "source": [
    "movies.shape"
   ]
  },
  {
   "cell_type": "code",
   "execution_count": 6,
   "metadata": {},
   "outputs": [
    {
     "data": {
      "text/plain": [
       "27278"
      ]
     },
     "execution_count": 6,
     "metadata": {},
     "output_type": "execute_result"
    }
   ],
   "source": [
    "len(movies.movieId.unique()) #movieId of movie is more"
   ]
  },
  {
   "cell_type": "code",
   "execution_count": 7,
   "metadata": {
    "colab": {
     "base_uri": "https://localhost:8080/",
     "height": 204
    },
    "executionInfo": {
     "elapsed": 976,
     "status": "ok",
     "timestamp": 1603284324898,
     "user": {
      "displayName": "Aayush Pratap Singh",
      "photoUrl": "",
      "userId": "08515727690672680447"
     },
     "user_tz": -330
    },
    "id": "DgIxdaYYxcGU",
    "outputId": "59f7112d-7019-4726-e6cc-7717aada3ced"
   },
   "outputs": [
    {
     "data": {
      "text/html": [
       "<div>\n",
       "<style scoped>\n",
       "    .dataframe tbody tr th:only-of-type {\n",
       "        vertical-align: middle;\n",
       "    }\n",
       "\n",
       "    .dataframe tbody tr th {\n",
       "        vertical-align: top;\n",
       "    }\n",
       "\n",
       "    .dataframe thead th {\n",
       "        text-align: right;\n",
       "    }\n",
       "</style>\n",
       "<table border=\"1\" class=\"dataframe\">\n",
       "  <thead>\n",
       "    <tr style=\"text-align: right;\">\n",
       "      <th></th>\n",
       "      <th>movieId</th>\n",
       "      <th>title</th>\n",
       "      <th>genres</th>\n",
       "    </tr>\n",
       "  </thead>\n",
       "  <tbody>\n",
       "    <tr>\n",
       "      <th>0</th>\n",
       "      <td>1</td>\n",
       "      <td>Toy Story (1995)</td>\n",
       "      <td>Adventure|Animation|Children|Comedy|Fantasy</td>\n",
       "    </tr>\n",
       "    <tr>\n",
       "      <th>1</th>\n",
       "      <td>2</td>\n",
       "      <td>Jumanji (1995)</td>\n",
       "      <td>Adventure|Children|Fantasy</td>\n",
       "    </tr>\n",
       "    <tr>\n",
       "      <th>2</th>\n",
       "      <td>3</td>\n",
       "      <td>Grumpier Old Men (1995)</td>\n",
       "      <td>Comedy|Romance</td>\n",
       "    </tr>\n",
       "    <tr>\n",
       "      <th>3</th>\n",
       "      <td>4</td>\n",
       "      <td>Waiting to Exhale (1995)</td>\n",
       "      <td>Comedy|Drama|Romance</td>\n",
       "    </tr>\n",
       "    <tr>\n",
       "      <th>4</th>\n",
       "      <td>5</td>\n",
       "      <td>Father of the Bride Part II (1995)</td>\n",
       "      <td>Comedy</td>\n",
       "    </tr>\n",
       "  </tbody>\n",
       "</table>\n",
       "</div>"
      ],
      "text/plain": [
       "   movieId                               title  \\\n",
       "0        1                    Toy Story (1995)   \n",
       "1        2                      Jumanji (1995)   \n",
       "2        3             Grumpier Old Men (1995)   \n",
       "3        4            Waiting to Exhale (1995)   \n",
       "4        5  Father of the Bride Part II (1995)   \n",
       "\n",
       "                                        genres  \n",
       "0  Adventure|Animation|Children|Comedy|Fantasy  \n",
       "1                   Adventure|Children|Fantasy  \n",
       "2                               Comedy|Romance  \n",
       "3                         Comedy|Drama|Romance  \n",
       "4                                       Comedy  "
      ]
     },
     "execution_count": 7,
     "metadata": {},
     "output_type": "execute_result"
    }
   ],
   "source": [
    "movies.head()"
   ]
  },
  {
   "cell_type": "markdown",
   "metadata": {},
   "source": [
    "## list the movie title that survive in the filtering\n"
   ]
  },
  {
   "cell_type": "code",
   "execution_count": 8,
   "metadata": {},
   "outputs": [
    {
     "data": {
      "text/plain": [
       "18807"
      ]
     },
     "execution_count": 8,
     "metadata": {},
     "output_type": "execute_result"
    }
   ],
   "source": [
    "len(ratings.movieId.unique()) #movieId of rartings is less"
   ]
  },
  {
   "cell_type": "code",
   "execution_count": 13,
   "metadata": {
    "colab": {
     "base_uri": "https://localhost:8080/",
     "height": 204
    },
    "executionInfo": {
     "elapsed": 999,
     "status": "ok",
     "timestamp": 1603284326633,
     "user": {
      "displayName": "Aayush Pratap Singh",
      "photoUrl": "",
      "userId": "08515727690672680447"
     },
     "user_tz": -330
    },
    "id": "xERGX_zxyQ9I",
    "outputId": "64a82cac-9367-4ae7-fd36-fcd4b1521984"
   },
   "outputs": [
    {
     "data": {
      "text/html": [
       "<div>\n",
       "<style scoped>\n",
       "    .dataframe tbody tr th:only-of-type {\n",
       "        vertical-align: middle;\n",
       "    }\n",
       "\n",
       "    .dataframe tbody tr th {\n",
       "        vertical-align: top;\n",
       "    }\n",
       "\n",
       "    .dataframe thead th {\n",
       "        text-align: right;\n",
       "    }\n",
       "</style>\n",
       "<table border=\"1\" class=\"dataframe\">\n",
       "  <thead>\n",
       "    <tr style=\"text-align: right;\">\n",
       "      <th></th>\n",
       "      <th>userId</th>\n",
       "      <th>movieId</th>\n",
       "      <th>rating</th>\n",
       "      <th>timestamp</th>\n",
       "    </tr>\n",
       "  </thead>\n",
       "  <tbody>\n",
       "    <tr>\n",
       "      <th>0</th>\n",
       "      <td>1</td>\n",
       "      <td>2</td>\n",
       "      <td>3.5</td>\n",
       "      <td>2005-04-02 23:53:47</td>\n",
       "    </tr>\n",
       "    <tr>\n",
       "      <th>1</th>\n",
       "      <td>1</td>\n",
       "      <td>29</td>\n",
       "      <td>3.5</td>\n",
       "      <td>2005-04-02 23:31:16</td>\n",
       "    </tr>\n",
       "    <tr>\n",
       "      <th>2</th>\n",
       "      <td>1</td>\n",
       "      <td>32</td>\n",
       "      <td>3.5</td>\n",
       "      <td>2005-04-02 23:33:39</td>\n",
       "    </tr>\n",
       "    <tr>\n",
       "      <th>3</th>\n",
       "      <td>1</td>\n",
       "      <td>47</td>\n",
       "      <td>3.5</td>\n",
       "      <td>2005-04-02 23:32:07</td>\n",
       "    </tr>\n",
       "    <tr>\n",
       "      <th>4</th>\n",
       "      <td>1</td>\n",
       "      <td>50</td>\n",
       "      <td>3.5</td>\n",
       "      <td>2005-04-02 23:29:40</td>\n",
       "    </tr>\n",
       "  </tbody>\n",
       "</table>\n",
       "</div>"
      ],
      "text/plain": [
       "   userId  movieId  rating            timestamp\n",
       "0       1        2     3.5  2005-04-02 23:53:47\n",
       "1       1       29     3.5  2005-04-02 23:31:16\n",
       "2       1       32     3.5  2005-04-02 23:33:39\n",
       "3       1       47     3.5  2005-04-02 23:32:07\n",
       "4       1       50     3.5  2005-04-02 23:29:40"
      ]
     },
     "execution_count": 13,
     "metadata": {},
     "output_type": "execute_result"
    }
   ],
   "source": [
    "ratings.head()"
   ]
  },
  {
   "cell_type": "code",
   "execution_count": 14,
   "metadata": {
    "executionInfo": {
     "elapsed": 1033,
     "status": "ok",
     "timestamp": 1603284328151,
     "user": {
      "displayName": "Aayush Pratap Singh",
      "photoUrl": "",
      "userId": "08515727690672680447"
     },
     "user_tz": -330
    },
    "id": "PQjlf7hZxdn5"
   },
   "outputs": [],
   "source": [
    "movies['genres']=movies['genres'].str.replace('|',' ')"
   ]
  },
  {
   "cell_type": "code",
   "execution_count": 15,
   "metadata": {
    "executionInfo": {
     "elapsed": 2583,
     "status": "ok",
     "timestamp": 1603284331929,
     "user": {
      "displayName": "Aayush Pratap Singh",
      "photoUrl": "",
      "userId": "08515727690672680447"
     },
     "user_tz": -330
    },
    "id": "tm3046H0x5rL"
   },
   "outputs": [],
   "source": [
    "ratings_f=ratings.groupby('userId').filter(lambda x: len(x)>=55)"
   ]
  },
  {
   "cell_type": "code",
   "execution_count": 16,
   "metadata": {},
   "outputs": [
    {
     "data": {
      "text/plain": [
       "58.17908558772346"
      ]
     },
     "execution_count": 16,
     "metadata": {},
     "output_type": "execute_result"
    }
   ],
   "source": [
    "#And we have reduced 43% of the users\n",
    "len(ratings_f.userId.unique())/len(ratings.userId.unique())*100"
   ]
  },
  {
   "cell_type": "code",
   "execution_count": 17,
   "metadata": {},
   "outputs": [
    {
     "data": {
      "text/plain": [
       "68.65972578634796"
      ]
     },
     "execution_count": 17,
     "metadata": {},
     "output_type": "execute_result"
    }
   ],
   "source": [
    "#no worries: We have kept 100% of the movie titles \n",
    "len(ratings_f.movieId.unique())/len(movies.movieId.unique())*100"
   ]
  },
  {
   "cell_type": "code",
   "execution_count": 18,
   "metadata": {
    "executionInfo": {
     "elapsed": 1313,
     "status": "ok",
     "timestamp": 1603284331931,
     "user": {
      "displayName": "Aayush Pratap Singh",
      "photoUrl": "",
      "userId": "08515727690672680447"
     },
     "user_tz": -330
    },
    "id": "l0epquTuyhad"
   },
   "outputs": [],
   "source": [
    "movie_list_rating=ratings_f.movieId.unique().tolist()"
   ]
  },
  {
   "cell_type": "code",
   "execution_count": null,
   "metadata": {},
   "outputs": [],
   "source": []
  },
  {
   "cell_type": "markdown",
   "metadata": {},
   "source": [
    "### filter the movies Data Frame"
   ]
  },
  {
   "cell_type": "code",
   "execution_count": 19,
   "metadata": {
    "executionInfo": {
     "elapsed": 1026,
     "status": "ok",
     "timestamp": 1603284332703,
     "user": {
      "displayName": "Aayush Pratap Singh",
      "photoUrl": "",
      "userId": "08515727690672680447"
     },
     "user_tz": -330
    },
    "id": "R3OPZXkRy5j1"
   },
   "outputs": [],
   "source": [
    "movies=movies[movies.movieId.isin(movie_list_rating)]"
   ]
  },
  {
   "cell_type": "code",
   "execution_count": 20,
   "metadata": {
    "colab": {
     "base_uri": "https://localhost:8080/",
     "height": 204
    },
    "executionInfo": {
     "elapsed": 1244,
     "status": "ok",
     "timestamp": 1603284333482,
     "user": {
      "displayName": "Aayush Pratap Singh",
      "photoUrl": "",
      "userId": "08515727690672680447"
     },
     "user_tz": -330
    },
    "id": "9dpArZrGzYYL",
    "outputId": "019ded3c-5c8f-4861-8198-82cc59dda060"
   },
   "outputs": [
    {
     "data": {
      "text/html": [
       "<div>\n",
       "<style scoped>\n",
       "    .dataframe tbody tr th:only-of-type {\n",
       "        vertical-align: middle;\n",
       "    }\n",
       "\n",
       "    .dataframe tbody tr th {\n",
       "        vertical-align: top;\n",
       "    }\n",
       "\n",
       "    .dataframe thead th {\n",
       "        text-align: right;\n",
       "    }\n",
       "</style>\n",
       "<table border=\"1\" class=\"dataframe\">\n",
       "  <thead>\n",
       "    <tr style=\"text-align: right;\">\n",
       "      <th></th>\n",
       "      <th>movieId</th>\n",
       "      <th>title</th>\n",
       "      <th>genres</th>\n",
       "    </tr>\n",
       "  </thead>\n",
       "  <tbody>\n",
       "    <tr>\n",
       "      <th>0</th>\n",
       "      <td>1</td>\n",
       "      <td>Toy Story (1995)</td>\n",
       "      <td>Adventure Animation Children Comedy Fantasy</td>\n",
       "    </tr>\n",
       "    <tr>\n",
       "      <th>1</th>\n",
       "      <td>2</td>\n",
       "      <td>Jumanji (1995)</td>\n",
       "      <td>Adventure Children Fantasy</td>\n",
       "    </tr>\n",
       "    <tr>\n",
       "      <th>2</th>\n",
       "      <td>3</td>\n",
       "      <td>Grumpier Old Men (1995)</td>\n",
       "      <td>Comedy Romance</td>\n",
       "    </tr>\n",
       "    <tr>\n",
       "      <th>3</th>\n",
       "      <td>4</td>\n",
       "      <td>Waiting to Exhale (1995)</td>\n",
       "      <td>Comedy Drama Romance</td>\n",
       "    </tr>\n",
       "    <tr>\n",
       "      <th>4</th>\n",
       "      <td>5</td>\n",
       "      <td>Father of the Bride Part II (1995)</td>\n",
       "      <td>Comedy</td>\n",
       "    </tr>\n",
       "  </tbody>\n",
       "</table>\n",
       "</div>"
      ],
      "text/plain": [
       "   movieId                               title  \\\n",
       "0        1                    Toy Story (1995)   \n",
       "1        2                      Jumanji (1995)   \n",
       "2        3             Grumpier Old Men (1995)   \n",
       "3        4            Waiting to Exhale (1995)   \n",
       "4        5  Father of the Bride Part II (1995)   \n",
       "\n",
       "                                        genres  \n",
       "0  Adventure Animation Children Comedy Fantasy  \n",
       "1                   Adventure Children Fantasy  \n",
       "2                               Comedy Romance  \n",
       "3                         Comedy Drama Romance  \n",
       "4                                       Comedy  "
      ]
     },
     "execution_count": 20,
     "metadata": {},
     "output_type": "execute_result"
    }
   ],
   "source": [
    "movies.head()"
   ]
  },
  {
   "cell_type": "code",
   "execution_count": 21,
   "metadata": {
    "executionInfo": {
     "elapsed": 1645,
     "status": "ok",
     "timestamp": 1603284335602,
     "user": {
      "displayName": "Aayush Pratap Singh",
      "photoUrl": "",
      "userId": "08515727690672680447"
     },
     "user_tz": -330
    },
    "id": "pZeFt4Iiz87Q"
   },
   "outputs": [],
   "source": [
    "#map movie to id\n",
    "Mapping_file=dict(zip(movies.title.tolist(),movies.movieId.tolist()))"
   ]
  },
  {
   "cell_type": "code",
   "execution_count": 22,
   "metadata": {
    "executionInfo": {
     "elapsed": 1640,
     "status": "ok",
     "timestamp": 1603284337952,
     "user": {
      "displayName": "Aayush Pratap Singh",
      "photoUrl": "",
      "userId": "08515727690672680447"
     },
     "user_tz": -330
    },
    "id": "NUXkJpfi0P3_"
   },
   "outputs": [],
   "source": [
    "tags.drop(['timestamp'],axis=1,inplace=True)\n",
    "ratings_f.drop(['timestamp'],axis=1,inplace=True)"
   ]
  },
  {
   "cell_type": "code",
   "execution_count": null,
   "metadata": {},
   "outputs": [],
   "source": []
  },
  {
   "cell_type": "markdown",
   "metadata": {},
   "source": [
    "## Make Content Based Recommendation\n",
    "* Content based recomedation is done on text data\n",
    "* text column is present in 'movies' data set (as genres) and in 'tags' data set (as tags)\n",
    "* So we combine movie and tags dtaset together"
   ]
  },
  {
   "cell_type": "code",
   "execution_count": 23,
   "metadata": {
    "colab": {
     "base_uri": "https://localhost:8080/",
     "height": 142
    },
    "executionInfo": {
     "elapsed": 2261,
     "status": "ok",
     "timestamp": 1603284340733,
     "user": {
      "displayName": "Aayush Pratap Singh",
      "photoUrl": "",
      "userId": "08515727690672680447"
     },
     "user_tz": -330
    },
    "id": "O2s9CtGx0xyW",
    "outputId": "f6818a8f-eb12-4ffe-e813-8a015f6d7794"
   },
   "outputs": [
    {
     "data": {
      "text/html": [
       "<div>\n",
       "<style scoped>\n",
       "    .dataframe tbody tr th:only-of-type {\n",
       "        vertical-align: middle;\n",
       "    }\n",
       "\n",
       "    .dataframe tbody tr th {\n",
       "        vertical-align: top;\n",
       "    }\n",
       "\n",
       "    .dataframe thead th {\n",
       "        text-align: right;\n",
       "    }\n",
       "</style>\n",
       "<table border=\"1\" class=\"dataframe\">\n",
       "  <thead>\n",
       "    <tr style=\"text-align: right;\">\n",
       "      <th></th>\n",
       "      <th>movieId</th>\n",
       "      <th>title</th>\n",
       "      <th>genres</th>\n",
       "      <th>userId</th>\n",
       "      <th>tag</th>\n",
       "    </tr>\n",
       "  </thead>\n",
       "  <tbody>\n",
       "    <tr>\n",
       "      <th>0</th>\n",
       "      <td>1</td>\n",
       "      <td>Toy Story (1995)</td>\n",
       "      <td>Adventure Animation Children Comedy Fantasy</td>\n",
       "      <td>1644.0</td>\n",
       "      <td>Watched</td>\n",
       "    </tr>\n",
       "    <tr>\n",
       "      <th>1</th>\n",
       "      <td>1</td>\n",
       "      <td>Toy Story (1995)</td>\n",
       "      <td>Adventure Animation Children Comedy Fantasy</td>\n",
       "      <td>1741.0</td>\n",
       "      <td>computer animation</td>\n",
       "    </tr>\n",
       "    <tr>\n",
       "      <th>2</th>\n",
       "      <td>1</td>\n",
       "      <td>Toy Story (1995)</td>\n",
       "      <td>Adventure Animation Children Comedy Fantasy</td>\n",
       "      <td>1741.0</td>\n",
       "      <td>Disney animated feature</td>\n",
       "    </tr>\n",
       "  </tbody>\n",
       "</table>\n",
       "</div>"
      ],
      "text/plain": [
       "   movieId             title                                       genres  \\\n",
       "0        1  Toy Story (1995)  Adventure Animation Children Comedy Fantasy   \n",
       "1        1  Toy Story (1995)  Adventure Animation Children Comedy Fantasy   \n",
       "2        1  Toy Story (1995)  Adventure Animation Children Comedy Fantasy   \n",
       "\n",
       "   userId                      tag  \n",
       "0  1644.0                  Watched  \n",
       "1  1741.0       computer animation  \n",
       "2  1741.0  Disney animated feature  "
      ]
     },
     "execution_count": 23,
     "metadata": {},
     "output_type": "execute_result"
    }
   ],
   "source": [
    "mixed=pd.merge(movies,tags,on='movieId',how='left')\n",
    "mixed.head(3)"
   ]
  },
  {
   "cell_type": "markdown",
   "metadata": {},
   "source": [
    "## Creating meta data\n",
    "* It involves removing null values from text data\n",
    "* It includes combining all the required text together(Concatenation)\n",
    "* Here we see that there are diffrent tags for same movie\n",
    "    * so, we combine all tags of same movie together\n",
    "    * Store this combined tags in a new colum called 'metadata'\n",
    "* this new column will be used for content based filtering"
   ]
  },
  {
   "cell_type": "code",
   "execution_count": 24,
   "metadata": {
    "executionInfo": {
     "elapsed": 2687,
     "status": "ok",
     "timestamp": 1603284344078,
     "user": {
      "displayName": "Aayush Pratap Singh",
      "photoUrl": "",
      "userId": "08515727690672680447"
     },
     "user_tz": -330
    },
    "id": "WwTH9w0c03L-"
   },
   "outputs": [],
   "source": [
    "mixed.fillna(\"\",inplace=True)\n",
    "mixed= pd.DataFrame(mixed.groupby('movieId')['tag'].apply(lambda x: \"%s\" % ' '.join(x)))"
   ]
  },
  {
   "cell_type": "code",
   "execution_count": 25,
   "metadata": {
    "colab": {
     "base_uri": "https://localhost:8080/",
     "height": 142
    },
    "executionInfo": {
     "elapsed": 1281,
     "status": "ok",
     "timestamp": 1603284346108,
     "user": {
      "displayName": "Aayush Pratap Singh",
      "photoUrl": "",
      "userId": "08515727690672680447"
     },
     "user_tz": -330
    },
    "id": "kdR8h2TG1vIn",
    "outputId": "e1ae52b2-6258-4a6b-ad09-910de0969b7b"
   },
   "outputs": [
    {
     "data": {
      "text/html": [
       "<div>\n",
       "<style scoped>\n",
       "    .dataframe tbody tr th:only-of-type {\n",
       "        vertical-align: middle;\n",
       "    }\n",
       "\n",
       "    .dataframe tbody tr th {\n",
       "        vertical-align: top;\n",
       "    }\n",
       "\n",
       "    .dataframe thead th {\n",
       "        text-align: right;\n",
       "    }\n",
       "</style>\n",
       "<table border=\"1\" class=\"dataframe\">\n",
       "  <thead>\n",
       "    <tr style=\"text-align: right;\">\n",
       "      <th></th>\n",
       "      <th>movieId</th>\n",
       "      <th>title</th>\n",
       "      <th>genres</th>\n",
       "      <th>tag</th>\n",
       "    </tr>\n",
       "  </thead>\n",
       "  <tbody>\n",
       "    <tr>\n",
       "      <th>0</th>\n",
       "      <td>1</td>\n",
       "      <td>Toy Story (1995)</td>\n",
       "      <td>Adventure Animation Children Comedy Fantasy</td>\n",
       "      <td>Watched computer animation Disney animated fea...</td>\n",
       "    </tr>\n",
       "    <tr>\n",
       "      <th>1</th>\n",
       "      <td>2</td>\n",
       "      <td>Jumanji (1995)</td>\n",
       "      <td>Adventure Children Fantasy</td>\n",
       "      <td>time travel adapted from:book board game child...</td>\n",
       "    </tr>\n",
       "    <tr>\n",
       "      <th>2</th>\n",
       "      <td>3</td>\n",
       "      <td>Grumpier Old Men (1995)</td>\n",
       "      <td>Comedy Romance</td>\n",
       "      <td>old people that is actually funny sequel fever...</td>\n",
       "    </tr>\n",
       "  </tbody>\n",
       "</table>\n",
       "</div>"
      ],
      "text/plain": [
       "   movieId                    title  \\\n",
       "0        1         Toy Story (1995)   \n",
       "1        2           Jumanji (1995)   \n",
       "2        3  Grumpier Old Men (1995)   \n",
       "\n",
       "                                        genres  \\\n",
       "0  Adventure Animation Children Comedy Fantasy   \n",
       "1                   Adventure Children Fantasy   \n",
       "2                               Comedy Romance   \n",
       "\n",
       "                                                 tag  \n",
       "0  Watched computer animation Disney animated fea...  \n",
       "1  time travel adapted from:book board game child...  \n",
       "2  old people that is actually funny sequel fever...  "
      ]
     },
     "execution_count": 25,
     "metadata": {},
     "output_type": "execute_result"
    }
   ],
   "source": [
    "Final=pd.merge(movies,mixed,on='movieId',how='left')\n",
    "Final.head(3)"
   ]
  },
  {
   "cell_type": "markdown",
   "metadata": {},
   "source": [
    "### creating a 'metadata' column & putting value of concatenating tag and genres"
   ]
  },
  {
   "cell_type": "code",
   "execution_count": 26,
   "metadata": {
    "executionInfo": {
     "elapsed": 1595,
     "status": "ok",
     "timestamp": 1603284348376,
     "user": {
      "displayName": "Aayush Pratap Singh",
      "photoUrl": "",
      "userId": "08515727690672680447"
     },
     "user_tz": -330
    },
    "id": "gui6XWxh4cyA"
   },
   "outputs": [],
   "source": [
    "Final['metadata']=Final[['tag','genres']].apply(lambda x: ' '.join(x),axis=1)"
   ]
  },
  {
   "cell_type": "code",
   "execution_count": 27,
   "metadata": {
    "colab": {
     "base_uri": "https://localhost:8080/",
     "height": 193
    },
    "executionInfo": {
     "elapsed": 1425,
     "status": "ok",
     "timestamp": 1603284350816,
     "user": {
      "displayName": "Aayush Pratap Singh",
      "photoUrl": "",
      "userId": "08515727690672680447"
     },
     "user_tz": -330
    },
    "id": "GaQbdbLr48b2",
    "outputId": "9c42de00-5c89-4e7c-9bd7-1074b1159d2c"
   },
   "outputs": [
    {
     "data": {
      "text/html": [
       "<div>\n",
       "<style scoped>\n",
       "    .dataframe tbody tr th:only-of-type {\n",
       "        vertical-align: middle;\n",
       "    }\n",
       "\n",
       "    .dataframe tbody tr th {\n",
       "        vertical-align: top;\n",
       "    }\n",
       "\n",
       "    .dataframe thead th {\n",
       "        text-align: right;\n",
       "    }\n",
       "</style>\n",
       "<table border=\"1\" class=\"dataframe\">\n",
       "  <thead>\n",
       "    <tr style=\"text-align: right;\">\n",
       "      <th></th>\n",
       "      <th>movieId</th>\n",
       "      <th>title</th>\n",
       "      <th>genres</th>\n",
       "      <th>tag</th>\n",
       "      <th>metadata</th>\n",
       "    </tr>\n",
       "  </thead>\n",
       "  <tbody>\n",
       "    <tr>\n",
       "      <th>0</th>\n",
       "      <td>1</td>\n",
       "      <td>Toy Story (1995)</td>\n",
       "      <td>Adventure Animation Children Comedy Fantasy</td>\n",
       "      <td>Watched computer animation Disney animated fea...</td>\n",
       "      <td>Watched computer animation Disney animated fea...</td>\n",
       "    </tr>\n",
       "    <tr>\n",
       "      <th>1</th>\n",
       "      <td>2</td>\n",
       "      <td>Jumanji (1995)</td>\n",
       "      <td>Adventure Children Fantasy</td>\n",
       "      <td>time travel adapted from:book board game child...</td>\n",
       "      <td>time travel adapted from:book board game child...</td>\n",
       "    </tr>\n",
       "    <tr>\n",
       "      <th>2</th>\n",
       "      <td>3</td>\n",
       "      <td>Grumpier Old Men (1995)</td>\n",
       "      <td>Comedy Romance</td>\n",
       "      <td>old people that is actually funny sequel fever...</td>\n",
       "      <td>old people that is actually funny sequel fever...</td>\n",
       "    </tr>\n",
       "  </tbody>\n",
       "</table>\n",
       "</div>"
      ],
      "text/plain": [
       "   movieId                    title  \\\n",
       "0        1         Toy Story (1995)   \n",
       "1        2           Jumanji (1995)   \n",
       "2        3  Grumpier Old Men (1995)   \n",
       "\n",
       "                                        genres  \\\n",
       "0  Adventure Animation Children Comedy Fantasy   \n",
       "1                   Adventure Children Fantasy   \n",
       "2                               Comedy Romance   \n",
       "\n",
       "                                                 tag  \\\n",
       "0  Watched computer animation Disney animated fea...   \n",
       "1  time travel adapted from:book board game child...   \n",
       "2  old people that is actually funny sequel fever...   \n",
       "\n",
       "                                            metadata  \n",
       "0  Watched computer animation Disney animated fea...  \n",
       "1  time travel adapted from:book board game child...  \n",
       "2  old people that is actually funny sequel fever...  "
      ]
     },
     "execution_count": 27,
     "metadata": {},
     "output_type": "execute_result"
    }
   ],
   "source": [
    "Final.head(3)"
   ]
  },
  {
   "cell_type": "code",
   "execution_count": 28,
   "metadata": {
    "colab": {
     "base_uri": "https://localhost:8080/",
     "height": 142
    },
    "executionInfo": {
     "elapsed": 801,
     "status": "ok",
     "timestamp": 1603284352191,
     "user": {
      "displayName": "Aayush Pratap Singh",
      "photoUrl": "",
      "userId": "08515727690672680447"
     },
     "user_tz": -330
    },
    "id": "EmLd4jkT4-x9",
    "outputId": "8ab78e02-9d25-4485-b179-0673e6ac108e"
   },
   "outputs": [
    {
     "data": {
      "text/html": [
       "<div>\n",
       "<style scoped>\n",
       "    .dataframe tbody tr th:only-of-type {\n",
       "        vertical-align: middle;\n",
       "    }\n",
       "\n",
       "    .dataframe tbody tr th {\n",
       "        vertical-align: top;\n",
       "    }\n",
       "\n",
       "    .dataframe thead th {\n",
       "        text-align: right;\n",
       "    }\n",
       "</style>\n",
       "<table border=\"1\" class=\"dataframe\">\n",
       "  <thead>\n",
       "    <tr style=\"text-align: right;\">\n",
       "      <th></th>\n",
       "      <th>movieId</th>\n",
       "      <th>genres</th>\n",
       "      <th>metadata</th>\n",
       "    </tr>\n",
       "  </thead>\n",
       "  <tbody>\n",
       "    <tr>\n",
       "      <th>0</th>\n",
       "      <td>1</td>\n",
       "      <td>Adventure Animation Children Comedy Fantasy</td>\n",
       "      <td>Watched computer animation Disney animated fea...</td>\n",
       "    </tr>\n",
       "    <tr>\n",
       "      <th>1</th>\n",
       "      <td>2</td>\n",
       "      <td>Adventure Children Fantasy</td>\n",
       "      <td>time travel adapted from:book board game child...</td>\n",
       "    </tr>\n",
       "    <tr>\n",
       "      <th>2</th>\n",
       "      <td>3</td>\n",
       "      <td>Comedy Romance</td>\n",
       "      <td>old people that is actually funny sequel fever...</td>\n",
       "    </tr>\n",
       "  </tbody>\n",
       "</table>\n",
       "</div>"
      ],
      "text/plain": [
       "   movieId                                       genres  \\\n",
       "0        1  Adventure Animation Children Comedy Fantasy   \n",
       "1        2                   Adventure Children Fantasy   \n",
       "2        3                               Comedy Romance   \n",
       "\n",
       "                                            metadata  \n",
       "0  Watched computer animation Disney animated fea...  \n",
       "1  time travel adapted from:book board game child...  \n",
       "2  old people that is actually funny sequel fever...  "
      ]
     },
     "execution_count": 28,
     "metadata": {},
     "output_type": "execute_result"
    }
   ],
   "source": [
    "Final[['movieId','genres','metadata']].head(3)"
   ]
  },
  {
   "cell_type": "code",
   "execution_count": 29,
   "metadata": {
    "colab": {
     "base_uri": "https://localhost:8080/",
     "height": 34
    },
    "executionInfo": {
     "elapsed": 961,
     "status": "ok",
     "timestamp": 1603284353792,
     "user": {
      "displayName": "Aayush Pratap Singh",
      "photoUrl": "",
      "userId": "08515727690672680447"
     },
     "user_tz": -330
    },
    "id": "L3N-I40s5WQk",
    "outputId": "db701d17-fbdf-4504-c51a-ba642cea0c5d"
   },
   "outputs": [
    {
     "data": {
      "text/plain": [
       "(18729, 5)"
      ]
     },
     "execution_count": 29,
     "metadata": {},
     "output_type": "execute_result"
    }
   ],
   "source": [
    "Final.shape"
   ]
  },
  {
   "cell_type": "code",
   "execution_count": null,
   "metadata": {
    "executionInfo": {
     "elapsed": 1225,
     "status": "ok",
     "timestamp": 1603284355635,
     "user": {
      "displayName": "Aayush Pratap Singh",
      "photoUrl": "",
      "userId": "08515727690672680447"
     },
     "user_tz": -330
    },
    "id": "pItmV-PL5kCX"
   },
   "outputs": [],
   "source": []
  },
  {
   "cell_type": "markdown",
   "metadata": {
    "executionInfo": {
     "elapsed": 1228,
     "status": "ok",
     "timestamp": 1603284378446,
     "user": {
      "displayName": "Aayush Pratap Singh",
      "photoUrl": "",
      "userId": "08515727690672680447"
     },
     "user_tz": -330
    },
    "id": "3cn-kyBE5ud3"
   },
   "source": [
    "## Creating a content Latent Matrix from movie Data\n",
    "* Latent means reducing dimensionality of the matrix\n",
    "* Here,we will make a matrix of vectorized words\n",
    "    * vecorized means every word will be denoted numerically\n",
    "    * Rows of the matix will bw number of sentences\n",
    "    * Columns will denote the total number of words\n",
    "        * For jth column in ith row will tell whether jth word is present in ith sentence or not.\n",
    "    * This matrix is created by td-Idf vectorizer\n",
    "        * Stop words like 'for','and' etc will be removed and only important words will me transfromed into matrix"
   ]
  },
  {
   "cell_type": "code",
   "execution_count": 30,
   "metadata": {
    "colab": {
     "base_uri": "https://localhost:8080/",
     "height": 34
    },
    "executionInfo": {
     "elapsed": 6211,
     "status": "ok",
     "timestamp": 1603284384315,
     "user": {
      "displayName": "Aayush Pratap Singh",
      "photoUrl": "",
      "userId": "08515727690672680447"
     },
     "user_tz": -330
    },
    "id": "XtJK9vtt5uqH",
    "outputId": "06bb40bd-a8c8-49ce-efb6-5474b20dd171"
   },
   "outputs": [
    {
     "name": "stdout",
     "output_type": "stream",
     "text": [
      "(18729, 22526)\n"
     ]
    }
   ],
   "source": [
    "from sklearn.feature_extraction.text import TfidfVectorizer\n",
    "tfidf=TfidfVectorizer(stop_words='english')\n",
    "tfidf_matrix=tfidf.fit_transform(Final['metadata'])\n",
    "tfidf_df=pd.DataFrame(tfidf_matrix.toarray(),index=Final.index.tolist())\n",
    "print(tfidf_df.shape)\n"
   ]
  },
  {
   "cell_type": "code",
   "execution_count": 31,
   "metadata": {
    "executionInfo": {
     "elapsed": 88519,
     "status": "ok",
     "timestamp": 1603284475015,
     "user": {
      "displayName": "Aayush Pratap Singh",
      "photoUrl": "",
      "userId": "08515727690672680447"
     },
     "user_tz": -330
    },
    "id": "F_dzveOR6N80"
   },
   "outputs": [],
   "source": [
    "from sklearn.decomposition import TruncatedSVD\n",
    "svd=TruncatedSVD(n_components=200)\n",
    "latent_matrix=svd.fit_transform(tfidf_df)"
   ]
  },
  {
   "cell_type": "code",
   "execution_count": 33,
   "metadata": {
    "colab": {
     "base_uri": "https://localhost:8080/",
     "height": 282
    },
    "executionInfo": {
     "elapsed": 1431,
     "status": "ok",
     "timestamp": 1603285440827,
     "user": {
      "displayName": "Aayush Pratap Singh",
      "photoUrl": "",
      "userId": "08515727690672680447"
     },
     "user_tz": -330
    },
    "id": "v_djyHFE8vQp",
    "outputId": "fb7f6dd4-8e02-4c81-f72d-0e4db7fe662b"
   },
   "outputs": [
    {
     "data": {
      "image/png": "[encoded data removed]",
      "text/plain": [
       "<Figure size 432x288 with 1 Axes>"
      ]
     },
     "metadata": {
      "needs_background": "light"
     },
     "output_type": "display_data"
    }
   ],
   "source": [
    "explained=svd.explained_variance_ratio_.cumsum()\n",
    "plt.plot(explained,'.-',ms=16,color='red')\n",
    "plt.xlabel('Singular value components',fontsize=12)\n",
    "plt.ylabel('Cumulative percent of variance',fontsize=12)\n",
    "plt.show()\n",
    "#the below graph shows that for 200 features more than 45% of data\n",
    "#if we use more than 200 features , time consumed will be more than the data percent increase"
   ]
  },
  {
   "cell_type": "code",
   "execution_count": 34,
   "metadata": {
    "executionInfo": {
     "elapsed": 1289,
     "status": "ok",
     "timestamp": 1603285527643,
     "user": {
      "displayName": "Aayush Pratap Singh",
      "photoUrl": "",
      "userId": "08515727690672680447"
     },
     "user_tz": -330
    },
    "id": "LYg_Ht2N9LUm"
   },
   "outputs": [],
   "source": [
    "n=200\n",
    "latent_matrix_1_df=pd.DataFrame(latent_matrix[:,0:n], index=Final.title.tolist())"
   ]
  },
  {
   "cell_type": "code",
   "execution_count": 35,
   "metadata": {
    "colab": {
     "base_uri": "https://localhost:8080/",
     "height": 34
    },
    "executionInfo": {
     "elapsed": 989,
     "status": "ok",
     "timestamp": 1603285539794,
     "user": {
      "displayName": "Aayush Pratap Singh",
      "photoUrl": "",
      "userId": "08515727690672680447"
     },
     "user_tz": -330
    },
    "id": "y-mHu0LZQmAa",
    "outputId": "7a9422b8-a0a8-440a-e3f7-3f9ad383239e"
   },
   "outputs": [
    {
     "data": {
      "text/plain": [
       "(18729, 200)"
      ]
     },
     "execution_count": 35,
     "metadata": {},
     "output_type": "execute_result"
    }
   ],
   "source": [
    "latent_matrix.shape"
   ]
  },
  {
   "cell_type": "code",
   "execution_count": null,
   "metadata": {
    "id": "3vBdD9uJQ9WX"
   },
   "outputs": [],
   "source": []
  },
  {
   "cell_type": "markdown",
   "metadata": {
    "id": "NcO8G3_nRE8s"
   },
   "source": [
    "## For Collaborative(Rating/Numerical) Recommendationj"
   ]
  },
  {
   "cell_type": "code",
   "execution_count": 36,
   "metadata": {
    "colab": {
     "base_uri": "https://localhost:8080/",
     "height": 204
    },
    "executionInfo": {
     "elapsed": 1228,
     "status": "ok",
     "timestamp": 1603285580280,
     "user": {
      "displayName": "Aayush Pratap Singh",
      "photoUrl": "",
      "userId": "08515727690672680447"
     },
     "user_tz": -330
    },
    "id": "T7x8kjFFRFAC",
    "outputId": "2f9b8acf-dd21-4418-f389-50d8ad15734b"
   },
   "outputs": [
    {
     "data": {
      "text/html": [
       "<div>\n",
       "<style scoped>\n",
       "    .dataframe tbody tr th:only-of-type {\n",
       "        vertical-align: middle;\n",
       "    }\n",
       "\n",
       "    .dataframe tbody tr th {\n",
       "        vertical-align: top;\n",
       "    }\n",
       "\n",
       "    .dataframe thead th {\n",
       "        text-align: right;\n",
       "    }\n",
       "</style>\n",
       "<table border=\"1\" class=\"dataframe\">\n",
       "  <thead>\n",
       "    <tr style=\"text-align: right;\">\n",
       "      <th></th>\n",
       "      <th>userId</th>\n",
       "      <th>movieId</th>\n",
       "      <th>rating</th>\n",
       "    </tr>\n",
       "  </thead>\n",
       "  <tbody>\n",
       "    <tr>\n",
       "      <th>0</th>\n",
       "      <td>1</td>\n",
       "      <td>2</td>\n",
       "      <td>3.5</td>\n",
       "    </tr>\n",
       "    <tr>\n",
       "      <th>1</th>\n",
       "      <td>1</td>\n",
       "      <td>29</td>\n",
       "      <td>3.5</td>\n",
       "    </tr>\n",
       "    <tr>\n",
       "      <th>2</th>\n",
       "      <td>1</td>\n",
       "      <td>32</td>\n",
       "      <td>3.5</td>\n",
       "    </tr>\n",
       "    <tr>\n",
       "      <th>3</th>\n",
       "      <td>1</td>\n",
       "      <td>47</td>\n",
       "      <td>3.5</td>\n",
       "    </tr>\n",
       "    <tr>\n",
       "      <th>4</th>\n",
       "      <td>1</td>\n",
       "      <td>50</td>\n",
       "      <td>3.5</td>\n",
       "    </tr>\n",
       "  </tbody>\n",
       "</table>\n",
       "</div>"
      ],
      "text/plain": [
       "   userId  movieId  rating\n",
       "0       1        2     3.5\n",
       "1       1       29     3.5\n",
       "2       1       32     3.5\n",
       "3       1       47     3.5\n",
       "4       1       50     3.5"
      ]
     },
     "execution_count": 36,
     "metadata": {},
     "output_type": "execute_result"
    }
   ],
   "source": [
    "ratings_f.head()"
   ]
  },
  {
   "cell_type": "code",
   "execution_count": 37,
   "metadata": {
    "executionInfo": {
     "elapsed": 1832,
     "status": "ok",
     "timestamp": 1603285657695,
     "user": {
      "displayName": "Aayush Pratap Singh",
      "photoUrl": "",
      "userId": "08515727690672680447"
     },
     "user_tz": -330
    },
    "id": "e7J_T1ThRHMl"
   },
   "outputs": [],
   "source": [
    "ratings_f1=pd.merge(movies[['movieId']], ratings_f, on=\"movieId\", how=\"right\" )"
   ]
  },
  {
   "cell_type": "code",
   "execution_count": 38,
   "metadata": {
    "executionInfo": {
     "elapsed": 23751,
     "status": "ok",
     "timestamp": 1603285750263,
     "user": {
      "displayName": "Aayush Pratap Singh",
      "photoUrl": "",
      "userId": "08515727690672680447"
     },
     "user_tz": -330
    },
    "id": "lX4nN8g5RaDg"
   },
   "outputs": [],
   "source": [
    "ratings_f2=ratings_f1.pivot(index='movieId', columns='userId',values='rating').fillna(0)"
   ]
  },
  {
   "cell_type": "code",
   "execution_count": 39,
   "metadata": {
    "colab": {
     "base_uri": "https://localhost:8080/",
     "height": 222
    },
    "executionInfo": {
     "elapsed": 1488,
     "status": "ok",
     "timestamp": 1603285775057,
     "user": {
      "displayName": "Aayush Pratap Singh",
      "photoUrl": "",
      "userId": "08515727690672680447"
     },
     "user_tz": -330
    },
    "id": "gMqz-n_MRrI1",
    "outputId": "987b1a19-a352-4cf1-b0f0-b53edf8717e7"
   },
   "outputs": [
    {
     "data": {
      "text/html": [
       "<div>\n",
       "<style scoped>\n",
       "    .dataframe tbody tr th:only-of-type {\n",
       "        vertical-align: middle;\n",
       "    }\n",
       "\n",
       "    .dataframe tbody tr th {\n",
       "        vertical-align: top;\n",
       "    }\n",
       "\n",
       "    .dataframe thead th {\n",
       "        text-align: right;\n",
       "    }\n",
       "</style>\n",
       "<table border=\"1\" class=\"dataframe\">\n",
       "  <thead>\n",
       "    <tr style=\"text-align: right;\">\n",
       "      <th>userId</th>\n",
       "      <th>1</th>\n",
       "      <th>2</th>\n",
       "      <th>3</th>\n",
       "      <th>5</th>\n",
       "      <th>7</th>\n",
       "      <th>8</th>\n",
       "      <th>11</th>\n",
       "      <th>13</th>\n",
       "      <th>14</th>\n",
       "      <th>16</th>\n",
       "      <th>...</th>\n",
       "      <th>25272</th>\n",
       "      <th>25273</th>\n",
       "      <th>25275</th>\n",
       "      <th>25276</th>\n",
       "      <th>25277</th>\n",
       "      <th>25278</th>\n",
       "      <th>25279</th>\n",
       "      <th>25280</th>\n",
       "      <th>25281</th>\n",
       "      <th>25283</th>\n",
       "    </tr>\n",
       "    <tr>\n",
       "      <th>movieId</th>\n",
       "      <th></th>\n",
       "      <th></th>\n",
       "      <th></th>\n",
       "      <th></th>\n",
       "      <th></th>\n",
       "      <th></th>\n",
       "      <th></th>\n",
       "      <th></th>\n",
       "      <th></th>\n",
       "      <th></th>\n",
       "      <th></th>\n",
       "      <th></th>\n",
       "      <th></th>\n",
       "      <th></th>\n",
       "      <th></th>\n",
       "      <th></th>\n",
       "      <th></th>\n",
       "      <th></th>\n",
       "      <th></th>\n",
       "      <th></th>\n",
       "      <th></th>\n",
       "    </tr>\n",
       "  </thead>\n",
       "  <tbody>\n",
       "    <tr>\n",
       "      <th>1</th>\n",
       "      <td>0.0</td>\n",
       "      <td>0.0</td>\n",
       "      <td>4.0</td>\n",
       "      <td>0.0</td>\n",
       "      <td>0.0</td>\n",
       "      <td>4.0</td>\n",
       "      <td>4.5</td>\n",
       "      <td>4.0</td>\n",
       "      <td>4.5</td>\n",
       "      <td>3.0</td>\n",
       "      <td>...</td>\n",
       "      <td>0.0</td>\n",
       "      <td>4.0</td>\n",
       "      <td>5.0</td>\n",
       "      <td>0.0</td>\n",
       "      <td>4.0</td>\n",
       "      <td>0.0</td>\n",
       "      <td>0.0</td>\n",
       "      <td>4.5</td>\n",
       "      <td>0.0</td>\n",
       "      <td>0.0</td>\n",
       "    </tr>\n",
       "    <tr>\n",
       "      <th>2</th>\n",
       "      <td>3.5</td>\n",
       "      <td>0.0</td>\n",
       "      <td>0.0</td>\n",
       "      <td>3.0</td>\n",
       "      <td>0.0</td>\n",
       "      <td>0.0</td>\n",
       "      <td>0.0</td>\n",
       "      <td>3.0</td>\n",
       "      <td>0.0</td>\n",
       "      <td>0.0</td>\n",
       "      <td>...</td>\n",
       "      <td>0.0</td>\n",
       "      <td>3.5</td>\n",
       "      <td>0.0</td>\n",
       "      <td>0.0</td>\n",
       "      <td>0.0</td>\n",
       "      <td>0.0</td>\n",
       "      <td>0.0</td>\n",
       "      <td>0.0</td>\n",
       "      <td>0.0</td>\n",
       "      <td>0.0</td>\n",
       "    </tr>\n",
       "    <tr>\n",
       "      <th>3</th>\n",
       "      <td>0.0</td>\n",
       "      <td>4.0</td>\n",
       "      <td>0.0</td>\n",
       "      <td>0.0</td>\n",
       "      <td>3.0</td>\n",
       "      <td>5.0</td>\n",
       "      <td>0.0</td>\n",
       "      <td>0.0</td>\n",
       "      <td>0.0</td>\n",
       "      <td>0.0</td>\n",
       "      <td>...</td>\n",
       "      <td>0.0</td>\n",
       "      <td>0.0</td>\n",
       "      <td>0.0</td>\n",
       "      <td>0.0</td>\n",
       "      <td>0.0</td>\n",
       "      <td>0.0</td>\n",
       "      <td>0.0</td>\n",
       "      <td>0.0</td>\n",
       "      <td>0.0</td>\n",
       "      <td>0.0</td>\n",
       "    </tr>\n",
       "  </tbody>\n",
       "</table>\n",
       "<p>3 rows × 14710 columns</p>\n",
       "</div>"
      ],
      "text/plain": [
       "userId   1      2      3      5      7      8      11     13     14     16     \\\n",
       "movieId                                                                         \n",
       "1          0.0    0.0    4.0    0.0    0.0    4.0    4.5    4.0    4.5    3.0   \n",
       "2          3.5    0.0    0.0    3.0    0.0    0.0    0.0    3.0    0.0    0.0   \n",
       "3          0.0    4.0    0.0    0.0    3.0    5.0    0.0    0.0    0.0    0.0   \n",
       "\n",
       "userId   ...  25272  25273  25275  25276  25277  25278  25279  25280  25281  \\\n",
       "movieId  ...                                                                  \n",
       "1        ...    0.0    4.0    5.0    0.0    4.0    0.0    0.0    4.5    0.0   \n",
       "2        ...    0.0    3.5    0.0    0.0    0.0    0.0    0.0    0.0    0.0   \n",
       "3        ...    0.0    0.0    0.0    0.0    0.0    0.0    0.0    0.0    0.0   \n",
       "\n",
       "userId   25283  \n",
       "movieId         \n",
       "1          0.0  \n",
       "2          0.0  \n",
       "3          0.0  \n",
       "\n",
       "[3 rows x 14710 columns]"
      ]
     },
     "execution_count": 39,
     "metadata": {},
     "output_type": "execute_result"
    }
   ],
   "source": [
    "ratings_f2.head(3)"
   ]
  },
  {
   "cell_type": "code",
   "execution_count": 40,
   "metadata": {
    "colab": {
     "base_uri": "https://localhost:8080/",
     "height": 34
    },
    "executionInfo": {
     "elapsed": 1268,
     "status": "ok",
     "timestamp": 1603285889108,
     "user": {
      "displayName": "Aayush Pratap Singh",
      "photoUrl": "",
      "userId": "08515727690672680447"
     },
     "user_tz": -330
    },
    "id": "l41IAyhvR0VH",
    "outputId": "c80b04b2-127a-4cd1-b2fe-cf423439218d"
   },
   "outputs": [
    {
     "data": {
      "text/plain": [
       "(18729, 14710)"
      ]
     },
     "execution_count": 40,
     "metadata": {},
     "output_type": "execute_result"
    }
   ],
   "source": [
    "ratings_f2.shape"
   ]
  },
  {
   "cell_type": "code",
   "execution_count": 41,
   "metadata": {
    "colab": {
     "base_uri": "https://localhost:8080/",
     "height": 34
    },
    "executionInfo": {
     "elapsed": 1305,
     "status": "ok",
     "timestamp": 1603285937029,
     "user": {
      "displayName": "Aayush Pratap Singh",
      "photoUrl": "",
      "userId": "08515727690672680447"
     },
     "user_tz": -330
    },
    "id": "GLu0lrV0SSra",
    "outputId": "0b78b7ab-d0b9-49ee-b1b7-d74ebd399bb3"
   },
   "outputs": [
    {
     "data": {
      "text/plain": [
       "18729"
      ]
     },
     "execution_count": 41,
     "metadata": {},
     "output_type": "execute_result"
    }
   ],
   "source": [
    "len(ratings_f.movieId.unique())"
   ]
  },
  {
   "cell_type": "code",
   "execution_count": 42,
   "metadata": {
    "executionInfo": {
     "elapsed": 57291,
     "status": "ok",
     "timestamp": 1603286222782,
     "user": {
      "displayName": "Aayush Pratap Singh",
      "photoUrl": "",
      "userId": "08515727690672680447"
     },
     "user_tz": -330
    },
    "id": "CDQvqXfcSeL9"
   },
   "outputs": [],
   "source": [
    "#Again reducing dimensionality by SVD\n",
    "from sklearn.decomposition import TruncatedSVD\n",
    "svd=TruncatedSVD(n_components=200)\n",
    "latent_matrix_2=svd.fit_transform(ratings_f2)\n",
    "latent_matrix_2_df=pd.DataFrame(latent_matrix_2, index=Final.title.tolist())"
   ]
  },
  {
   "cell_type": "code",
   "execution_count": 43,
   "metadata": {
    "colab": {
     "base_uri": "https://localhost:8080/",
     "height": 34
    },
    "executionInfo": {
     "elapsed": 1443,
     "status": "ok",
     "timestamp": 1603286243036,
     "user": {
      "displayName": "Aayush Pratap Singh",
      "photoUrl": "",
      "userId": "08515727690672680447"
     },
     "user_tz": -330
    },
    "id": "t-8T-yE_THJe",
    "outputId": "cc5dd7a2-8312-41f1-d6c9-af84e542830a"
   },
   "outputs": [
    {
     "data": {
      "text/plain": [
       "(18729, 200)"
      ]
     },
     "execution_count": 43,
     "metadata": {},
     "output_type": "execute_result"
    }
   ],
   "source": [
    "latent_matrix_2_df.shape"
   ]
  },
  {
   "cell_type": "code",
   "execution_count": 44,
   "metadata": {
    "colab": {
     "base_uri": "https://localhost:8080/",
     "height": 282
    },
    "executionInfo": {
     "elapsed": 1359,
     "status": "ok",
     "timestamp": 1603286463916,
     "user": {
      "displayName": "Aayush Pratap Singh",
      "photoUrl": "",
      "userId": "08515727690672680447"
     },
     "user_tz": -330
    },
    "id": "wnbycOIJTo4H",
    "outputId": "bb6dca19-7beb-4b8d-cabb-7111b5f71741"
   },
   "outputs": [
    {
     "data": {
      "image/png": "[encoded data removed]",
      "text/plain": [
       "<Figure size 432x288 with 1 Axes>"
      ]
     },
     "metadata": {
      "needs_background": "light"
     },
     "output_type": "display_data"
    }
   ],
   "source": [
    "# plot variance explained to see what  latent dimensions to use\n",
    "explained=svd.explained_variance_ratio_.cumsum()\n",
    "plt.plot(explained,'.-',ms=16, color='red')\n",
    "plt.xlabel('Singular value components ',fontsize=12)\n",
    "plt.ylabel('Cumulative percent of variance ',fontsize=12)\n",
    "plt.show()"
   ]
  },
  {
   "cell_type": "code",
   "execution_count": 45,
   "metadata": {
    "colab": {
     "base_uri": "https://localhost:8080/",
     "height": 259
    },
    "executionInfo": {
     "elapsed": 1400,
     "status": "ok",
     "timestamp": 1603287589949,
     "user": {
      "displayName": "Aayush Pratap Singh",
      "photoUrl": "",
      "userId": "08515727690672680447"
     },
     "user_tz": -330
    },
    "id": "M0guj7GSUcrd",
    "outputId": "a2085a69-7ee7-48b7-9916-0ed415f23f02"
   },
   "outputs": [
    {
     "data": {
      "text/html": [
       "<div>\n",
       "<style scoped>\n",
       "    .dataframe tbody tr th:only-of-type {\n",
       "        vertical-align: middle;\n",
       "    }\n",
       "\n",
       "    .dataframe tbody tr th {\n",
       "        vertical-align: top;\n",
       "    }\n",
       "\n",
       "    .dataframe thead th {\n",
       "        text-align: right;\n",
       "    }\n",
       "</style>\n",
       "<table border=\"1\" class=\"dataframe\">\n",
       "  <thead>\n",
       "    <tr style=\"text-align: right;\">\n",
       "      <th></th>\n",
       "      <th>0</th>\n",
       "      <th>1</th>\n",
       "      <th>2</th>\n",
       "      <th>3</th>\n",
       "      <th>4</th>\n",
       "      <th>5</th>\n",
       "      <th>6</th>\n",
       "      <th>7</th>\n",
       "      <th>8</th>\n",
       "      <th>9</th>\n",
       "      <th>...</th>\n",
       "      <th>190</th>\n",
       "      <th>191</th>\n",
       "      <th>192</th>\n",
       "      <th>193</th>\n",
       "      <th>194</th>\n",
       "      <th>195</th>\n",
       "      <th>196</th>\n",
       "      <th>197</th>\n",
       "      <th>198</th>\n",
       "      <th>199</th>\n",
       "    </tr>\n",
       "  </thead>\n",
       "  <tbody>\n",
       "    <tr>\n",
       "      <th>Toy Story (1995)</th>\n",
       "      <td>0.033641</td>\n",
       "      <td>0.055091</td>\n",
       "      <td>0.024118</td>\n",
       "      <td>0.007937</td>\n",
       "      <td>0.006395</td>\n",
       "      <td>0.030778</td>\n",
       "      <td>-0.034537</td>\n",
       "      <td>0.151520</td>\n",
       "      <td>0.000212</td>\n",
       "      <td>-0.030800</td>\n",
       "      <td>...</td>\n",
       "      <td>0.074859</td>\n",
       "      <td>0.147435</td>\n",
       "      <td>0.038737</td>\n",
       "      <td>-0.001587</td>\n",
       "      <td>-0.016939</td>\n",
       "      <td>-0.001618</td>\n",
       "      <td>0.015962</td>\n",
       "      <td>0.022508</td>\n",
       "      <td>0.013025</td>\n",
       "      <td>0.061345</td>\n",
       "    </tr>\n",
       "    <tr>\n",
       "      <th>Jumanji (1995)</th>\n",
       "      <td>0.013935</td>\n",
       "      <td>0.012182</td>\n",
       "      <td>0.032863</td>\n",
       "      <td>0.006377</td>\n",
       "      <td>0.016716</td>\n",
       "      <td>0.005254</td>\n",
       "      <td>-0.018555</td>\n",
       "      <td>0.086814</td>\n",
       "      <td>0.004984</td>\n",
       "      <td>-0.011057</td>\n",
       "      <td>...</td>\n",
       "      <td>-0.035777</td>\n",
       "      <td>-0.019805</td>\n",
       "      <td>-0.007536</td>\n",
       "      <td>-0.020154</td>\n",
       "      <td>-0.002577</td>\n",
       "      <td>0.038835</td>\n",
       "      <td>0.021062</td>\n",
       "      <td>-0.030442</td>\n",
       "      <td>0.069842</td>\n",
       "      <td>0.006601</td>\n",
       "    </tr>\n",
       "    <tr>\n",
       "      <th>Grumpier Old Men (1995)</th>\n",
       "      <td>0.046251</td>\n",
       "      <td>0.072396</td>\n",
       "      <td>-0.002702</td>\n",
       "      <td>0.000791</td>\n",
       "      <td>0.030814</td>\n",
       "      <td>-0.000537</td>\n",
       "      <td>-0.012825</td>\n",
       "      <td>-0.003033</td>\n",
       "      <td>-0.000994</td>\n",
       "      <td>-0.000368</td>\n",
       "      <td>...</td>\n",
       "      <td>0.027984</td>\n",
       "      <td>-0.003873</td>\n",
       "      <td>0.013000</td>\n",
       "      <td>-0.005150</td>\n",
       "      <td>0.024388</td>\n",
       "      <td>-0.024881</td>\n",
       "      <td>0.005216</td>\n",
       "      <td>-0.006492</td>\n",
       "      <td>0.002458</td>\n",
       "      <td>0.016046</td>\n",
       "    </tr>\n",
       "  </tbody>\n",
       "</table>\n",
       "<p>3 rows × 200 columns</p>\n",
       "</div>"
      ],
      "text/plain": [
       "                              0         1         2         3         4    \\\n",
       "Toy Story (1995)         0.033641  0.055091  0.024118  0.007937  0.006395   \n",
       "Jumanji (1995)           0.013935  0.012182  0.032863  0.006377  0.016716   \n",
       "Grumpier Old Men (1995)  0.046251  0.072396 -0.002702  0.000791  0.030814   \n",
       "\n",
       "                              5         6         7         8         9    \\\n",
       "Toy Story (1995)         0.030778 -0.034537  0.151520  0.000212 -0.030800   \n",
       "Jumanji (1995)           0.005254 -0.018555  0.086814  0.004984 -0.011057   \n",
       "Grumpier Old Men (1995) -0.000537 -0.012825 -0.003033 -0.000994 -0.000368   \n",
       "\n",
       "                         ...       190       191       192       193  \\\n",
       "Toy Story (1995)         ...  0.074859  0.147435  0.038737 -0.001587   \n",
       "Jumanji (1995)           ... -0.035777 -0.019805 -0.007536 -0.020154   \n",
       "Grumpier Old Men (1995)  ...  0.027984 -0.003873  0.013000 -0.005150   \n",
       "\n",
       "                              194       195       196       197       198  \\\n",
       "Toy Story (1995)        -0.016939 -0.001618  0.015962  0.022508  0.013025   \n",
       "Jumanji (1995)          -0.002577  0.038835  0.021062 -0.030442  0.069842   \n",
       "Grumpier Old Men (1995)  0.024388 -0.024881  0.005216 -0.006492  0.002458   \n",
       "\n",
       "                              199  \n",
       "Toy Story (1995)         0.061345  \n",
       "Jumanji (1995)           0.006601  \n",
       "Grumpier Old Men (1995)  0.016046  \n",
       "\n",
       "[3 rows x 200 columns]"
      ]
     },
     "execution_count": 45,
     "metadata": {},
     "output_type": "execute_result"
    }
   ],
   "source": [
    "latent_matrix_1_df.head(3) # content matrix for content based recommendation"
   ]
  },
  {
   "cell_type": "code",
   "execution_count": 46,
   "metadata": {
    "colab": {
     "base_uri": "https://localhost:8080/",
     "height": 259
    },
    "executionInfo": {
     "elapsed": 1834,
     "status": "ok",
     "timestamp": 1603287641600,
     "user": {
      "displayName": "Aayush Pratap Singh",
      "photoUrl": "",
      "userId": "08515727690672680447"
     },
     "user_tz": -330
    },
    "id": "wU8fIOkXYhSJ",
    "outputId": "dbe075a3-886c-40b7-8f1f-c773f15b6a3e"
   },
   "outputs": [
    {
     "data": {
      "text/html": [
       "<div>\n",
       "<style scoped>\n",
       "    .dataframe tbody tr th:only-of-type {\n",
       "        vertical-align: middle;\n",
       "    }\n",
       "\n",
       "    .dataframe tbody tr th {\n",
       "        vertical-align: top;\n",
       "    }\n",
       "\n",
       "    .dataframe thead th {\n",
       "        text-align: right;\n",
       "    }\n",
       "</style>\n",
       "<table border=\"1\" class=\"dataframe\">\n",
       "  <thead>\n",
       "    <tr style=\"text-align: right;\">\n",
       "      <th></th>\n",
       "      <th>0</th>\n",
       "      <th>1</th>\n",
       "      <th>2</th>\n",
       "      <th>3</th>\n",
       "      <th>4</th>\n",
       "      <th>5</th>\n",
       "      <th>6</th>\n",
       "      <th>7</th>\n",
       "      <th>8</th>\n",
       "      <th>9</th>\n",
       "      <th>...</th>\n",
       "      <th>190</th>\n",
       "      <th>191</th>\n",
       "      <th>192</th>\n",
       "      <th>193</th>\n",
       "      <th>194</th>\n",
       "      <th>195</th>\n",
       "      <th>196</th>\n",
       "      <th>197</th>\n",
       "      <th>198</th>\n",
       "      <th>199</th>\n",
       "    </tr>\n",
       "  </thead>\n",
       "  <tbody>\n",
       "    <tr>\n",
       "      <th>Toy Story (1995)</th>\n",
       "      <td>241.899977</td>\n",
       "      <td>-3.270660</td>\n",
       "      <td>61.395410</td>\n",
       "      <td>29.731371</td>\n",
       "      <td>16.243795</td>\n",
       "      <td>68.107986</td>\n",
       "      <td>-23.446251</td>\n",
       "      <td>27.099534</td>\n",
       "      <td>-25.546355</td>\n",
       "      <td>6.314342</td>\n",
       "      <td>...</td>\n",
       "      <td>-10.199605</td>\n",
       "      <td>3.904789</td>\n",
       "      <td>-3.260474</td>\n",
       "      <td>-4.944233</td>\n",
       "      <td>-7.634080</td>\n",
       "      <td>-13.271314</td>\n",
       "      <td>0.620050</td>\n",
       "      <td>3.129984</td>\n",
       "      <td>4.133285</td>\n",
       "      <td>-6.789327</td>\n",
       "    </tr>\n",
       "    <tr>\n",
       "      <th>Jumanji (1995)</th>\n",
       "      <td>110.542578</td>\n",
       "      <td>-2.567716</td>\n",
       "      <td>68.734212</td>\n",
       "      <td>-19.645228</td>\n",
       "      <td>-19.657733</td>\n",
       "      <td>9.245835</td>\n",
       "      <td>-27.153621</td>\n",
       "      <td>20.841513</td>\n",
       "      <td>7.215168</td>\n",
       "      <td>-9.625650</td>\n",
       "      <td>...</td>\n",
       "      <td>7.239717</td>\n",
       "      <td>5.144504</td>\n",
       "      <td>5.107902</td>\n",
       "      <td>3.109195</td>\n",
       "      <td>-3.468422</td>\n",
       "      <td>-3.330702</td>\n",
       "      <td>1.466258</td>\n",
       "      <td>5.420957</td>\n",
       "      <td>1.237146</td>\n",
       "      <td>-0.755578</td>\n",
       "    </tr>\n",
       "    <tr>\n",
       "      <th>Grumpier Old Men (1995)</th>\n",
       "      <td>45.323679</td>\n",
       "      <td>-21.365718</td>\n",
       "      <td>30.318441</td>\n",
       "      <td>-18.882042</td>\n",
       "      <td>-15.485788</td>\n",
       "      <td>0.634993</td>\n",
       "      <td>-3.043136</td>\n",
       "      <td>0.269722</td>\n",
       "      <td>-10.751159</td>\n",
       "      <td>-11.663624</td>\n",
       "      <td>...</td>\n",
       "      <td>-1.345164</td>\n",
       "      <td>0.745544</td>\n",
       "      <td>-1.536549</td>\n",
       "      <td>0.642533</td>\n",
       "      <td>3.101301</td>\n",
       "      <td>-0.753346</td>\n",
       "      <td>-5.132117</td>\n",
       "      <td>0.140885</td>\n",
       "      <td>-3.945981</td>\n",
       "      <td>-0.454570</td>\n",
       "    </tr>\n",
       "  </tbody>\n",
       "</table>\n",
       "<p>3 rows × 200 columns</p>\n",
       "</div>"
      ],
      "text/plain": [
       "                                0          1          2          3    \\\n",
       "Toy Story (1995)         241.899977  -3.270660  61.395410  29.731371   \n",
       "Jumanji (1995)           110.542578  -2.567716  68.734212 -19.645228   \n",
       "Grumpier Old Men (1995)   45.323679 -21.365718  30.318441 -18.882042   \n",
       "\n",
       "                               4          5          6          7    \\\n",
       "Toy Story (1995)         16.243795  68.107986 -23.446251  27.099534   \n",
       "Jumanji (1995)          -19.657733   9.245835 -27.153621  20.841513   \n",
       "Grumpier Old Men (1995) -15.485788   0.634993  -3.043136   0.269722   \n",
       "\n",
       "                               8          9    ...        190       191  \\\n",
       "Toy Story (1995)        -25.546355   6.314342  ... -10.199605  3.904789   \n",
       "Jumanji (1995)            7.215168  -9.625650  ...   7.239717  5.144504   \n",
       "Grumpier Old Men (1995) -10.751159 -11.663624  ...  -1.345164  0.745544   \n",
       "\n",
       "                              192       193       194        195       196  \\\n",
       "Toy Story (1995)        -3.260474 -4.944233 -7.634080 -13.271314  0.620050   \n",
       "Jumanji (1995)           5.107902  3.109195 -3.468422  -3.330702  1.466258   \n",
       "Grumpier Old Men (1995) -1.536549  0.642533  3.101301  -0.753346 -5.132117   \n",
       "\n",
       "                              197       198       199  \n",
       "Toy Story (1995)         3.129984  4.133285 -6.789327  \n",
       "Jumanji (1995)           5.420957  1.237146 -0.755578  \n",
       "Grumpier Old Men (1995)  0.140885 -3.945981 -0.454570  \n",
       "\n",
       "[3 rows x 200 columns]"
      ]
     },
     "execution_count": 46,
     "metadata": {},
     "output_type": "execute_result"
    }
   ],
   "source": [
    "latent_matrix_2_df.head(3) # Matrix based on reviews i.e. for collabarative Recommendation"
   ]
  },
  {
   "cell_type": "code",
   "execution_count": null,
   "metadata": {
    "id": "vmg2vJZjY-YO"
   },
   "outputs": [],
   "source": []
  },
  {
   "cell_type": "code",
   "execution_count": null,
   "metadata": {
    "id": "SDZnujJYZyeY"
   },
   "outputs": [],
   "source": []
  },
  {
   "cell_type": "markdown",
   "metadata": {
    "id": "rOYKLUUgZz1T"
   },
   "source": [
    "## 1) Geting row for similar matrix  from both content's matric & Collaborative's matrix \n",
    "## 2) Calculate Similarity Score for both matrices\n",
    "## 3) Calculate hybrid score from avg of above two scores\n",
    "## 4) Form a database of similar database\n",
    "## 5) Sort the similar database and get required recommendation\n"
   ]
  },
  {
   "cell_type": "code",
   "execution_count": 47,
   "metadata": {
    "colab": {
     "base_uri": "https://localhost:8080/",
     "height": 390
    },
    "executionInfo": {
     "elapsed": 1494,
     "status": "ok",
     "timestamp": 1603289581073,
     "user": {
      "displayName": "Aayush Pratap Singh",
      "photoUrl": "",
      "userId": "08515727690672680447"
     },
     "user_tz": -330
    },
    "id": "M9UxhCR0Zz5N",
    "outputId": "2cdc945c-153c-4dff-8f6e-ea6e26c41980"
   },
   "outputs": [
    {
     "data": {
      "text/html": [
       "<div>\n",
       "<style scoped>\n",
       "    .dataframe tbody tr th:only-of-type {\n",
       "        vertical-align: middle;\n",
       "    }\n",
       "\n",
       "    .dataframe tbody tr th {\n",
       "        vertical-align: top;\n",
       "    }\n",
       "\n",
       "    .dataframe thead th {\n",
       "        text-align: right;\n",
       "    }\n",
       "</style>\n",
       "<table border=\"1\" class=\"dataframe\">\n",
       "  <thead>\n",
       "    <tr style=\"text-align: right;\">\n",
       "      <th></th>\n",
       "      <th>content</th>\n",
       "      <th>collaborative</th>\n",
       "      <th>hybrid</th>\n",
       "    </tr>\n",
       "  </thead>\n",
       "  <tbody>\n",
       "    <tr>\n",
       "      <th>Toy Story 2 (1999)</th>\n",
       "      <td>0.963758</td>\n",
       "      <td>0.743063</td>\n",
       "      <td>0.853411</td>\n",
       "    </tr>\n",
       "    <tr>\n",
       "      <th>Bug's Life, A (1998)</th>\n",
       "      <td>0.910795</td>\n",
       "      <td>0.660196</td>\n",
       "      <td>0.785496</td>\n",
       "    </tr>\n",
       "    <tr>\n",
       "      <th>Monsters, Inc. (2001)</th>\n",
       "      <td>0.891119</td>\n",
       "      <td>0.616348</td>\n",
       "      <td>0.753734</td>\n",
       "    </tr>\n",
       "    <tr>\n",
       "      <th>Finding Nemo (2003)</th>\n",
       "      <td>0.874132</td>\n",
       "      <td>0.594034</td>\n",
       "      <td>0.734083</td>\n",
       "    </tr>\n",
       "    <tr>\n",
       "      <th>Incredibles, The (2004)</th>\n",
       "      <td>0.797729</td>\n",
       "      <td>0.570459</td>\n",
       "      <td>0.684094</td>\n",
       "    </tr>\n",
       "    <tr>\n",
       "      <th>Ice Age (2002)</th>\n",
       "      <td>0.877786</td>\n",
       "      <td>0.472669</td>\n",
       "      <td>0.675228</td>\n",
       "    </tr>\n",
       "    <tr>\n",
       "      <th>Ratatouille (2007)</th>\n",
       "      <td>0.898410</td>\n",
       "      <td>0.417340</td>\n",
       "      <td>0.657875</td>\n",
       "    </tr>\n",
       "    <tr>\n",
       "      <th>Antz (1998)</th>\n",
       "      <td>0.744086</td>\n",
       "      <td>0.563769</td>\n",
       "      <td>0.653928</td>\n",
       "    </tr>\n",
       "    <tr>\n",
       "      <th>Toy Story 3 (2010)</th>\n",
       "      <td>0.864155</td>\n",
       "      <td>0.416619</td>\n",
       "      <td>0.640387</td>\n",
       "    </tr>\n",
       "    <tr>\n",
       "      <th>Shrek (2001)</th>\n",
       "      <td>0.621053</td>\n",
       "      <td>0.631302</td>\n",
       "      <td>0.626177</td>\n",
       "    </tr>\n",
       "    <tr>\n",
       "      <th>Up (2009)</th>\n",
       "      <td>0.758926</td>\n",
       "      <td>0.392312</td>\n",
       "      <td>0.575619</td>\n",
       "    </tr>\n",
       "  </tbody>\n",
       "</table>\n",
       "</div>"
      ],
      "text/plain": [
       "                          content  collaborative    hybrid\n",
       "Toy Story 2 (1999)       0.963758       0.743063  0.853411\n",
       "Bug's Life, A (1998)     0.910795       0.660196  0.785496\n",
       "Monsters, Inc. (2001)    0.891119       0.616348  0.753734\n",
       "Finding Nemo (2003)      0.874132       0.594034  0.734083\n",
       "Incredibles, The (2004)  0.797729       0.570459  0.684094\n",
       "Ice Age (2002)           0.877786       0.472669  0.675228\n",
       "Ratatouille (2007)       0.898410       0.417340  0.657875\n",
       "Antz (1998)              0.744086       0.563769  0.653928\n",
       "Toy Story 3 (2010)       0.864155       0.416619  0.640387\n",
       "Shrek (2001)             0.621053       0.631302  0.626177\n",
       "Up (2009)                0.758926       0.392312  0.575619"
      ]
     },
     "execution_count": 47,
     "metadata": {},
     "output_type": "execute_result"
    }
   ],
   "source": [
    "from sklearn.metrics.pairwise import cosine_similarity\n",
    "#movie that user likes: Toy Story (1995)\n",
    "a_1=np.array(latent_matrix_1_df.loc['Toy Story (1995)']).reshape(1,-1 ) #this gives similar movies matrix from content based matrix\n",
    "a_2=np.array(latent_matrix_2_df.loc['Toy Story (1995)']).reshape(1,-1)  #gives similar movies row of toy story from user rating\n",
    "\n",
    "#calculate cosine Similarity of this movie with others in the list\n",
    "score_1=cosine_similarity(latent_matrix_1_df,a_1).reshape(-1)\n",
    "score_2=cosine_similarity(latent_matrix_2_df,a_2).reshape(-1)\n",
    "\n",
    "#an average measure of contentent & colaborative\n",
    "hybrid= ((score_1+score_2)/2.0)\n",
    "\n",
    "#form a data frame of similar movies\n",
    "dictDf={'content':score_1, 'collaborative':score_2, 'hybrid': hybrid}\n",
    "similar=pd.DataFrame(dictDf, index=latent_matrix_1_df.index)\n",
    "\n",
    "#sort it on the basis of either: content, collaborative or hybrid\n",
    "#here: hybrid\n",
    "similar.sort_values('hybrid', ascending=False, inplace=True)\n",
    "\n",
    "similar[1:].head(11)\n"
   ]
  },
  {
   "cell_type": "code",
   "execution_count": null,
   "metadata": {
    "id": "HKU_ECJ_cxAG"
   },
   "outputs": [],
   "source": []
  },
  {
   "cell_type": "code",
   "execution_count": null,
   "metadata": {},
   "outputs": [],
   "source": []
  },
  {
   "cell_type": "code",
   "execution_count": null,
   "metadata": {},
   "outputs": [],
   "source": []
  }
 ],
 "metadata": {
  "colab": {
   "authorship_tag": "ABX9TyNa66hzvhJy3pr+8hIe6RJ2",
   "collapsed_sections": [],
   "name": "Hybrid Recommendation Engine.ipynb",
   "provenance": []
  },
  "kernelspec": {
   "display_name": "Python 3",
   "language": "python",
   "name": "python3"
  },
  "language_info": {
   "codemirror_mode": {
    "name": "ipython",
    "version": 3
   },
   "file_extension": ".py",
   "mimetype": "text/x-python",
   "name": "python",
   "nbconvert_exporter": "python",
   "pygments_lexer": "ipython3",
   "version": "3.8.3"
  }
 },
 "nbformat": 4,
 "nbformat_minor": 1
}
